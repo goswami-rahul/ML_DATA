{
 "cells": [
  {
   "cell_type": "code",
   "execution_count": 2,
   "metadata": {},
   "outputs": [
    {
     "name": "stderr",
     "output_type": "stream",
     "text": [
      "/home/dp/anaconda3/lib/python3.6/site-packages/h5py/__init__.py:36: FutureWarning: Conversion of the second argument of issubdtype from `float` to `np.floating` is deprecated. In future, it will be treated as `np.float64 == np.dtype(float).type`.\n",
      "  from ._conv import register_converters as _register_converters\n",
      "Using TensorFlow backend.\n"
     ]
    }
   ],
   "source": [
    "import numpy as np\n",
    "import matplotlib.pyplot as plt\n",
    "import cv2\n",
    "from scipy import stats\n",
    "np.random.seed(123)  # for reproducibility\n",
    "\n",
    "from keras.models import Sequential, load_model\n",
    "from keras.layers import Dense, Dropout, Activation, Flatten\n",
    "from keras.layers import MaxPooling2D, Conv2D\n",
    "from keras.utils import np_utils\n",
    "from keras.preprocessing.image import ImageDataGenerator, load_img, img_to_array, array_to_img\n",
    "import keras.callbacks\n",
    "\n",
    "import tensorflow as tf\n",
    "# run_opts = tf.RunOptions(report_tensor_allocations_upon_oom = True)"
   ]
  },
  {
   "cell_type": "code",
   "execution_count": 4,
   "metadata": {},
   "outputs": [],
   "source": [
    "model = load_model(\"checkpoints/weights.02-0.94.hdf5\")"
   ]
  },
  {
   "cell_type": "code",
   "execution_count": 5,
   "metadata": {},
   "outputs": [
    {
     "data": {
      "text/plain": [
       "(None, 256, 256, 3)"
      ]
     },
     "execution_count": 5,
     "metadata": {},
     "output_type": "execute_result"
    }
   ],
   "source": [
    "model.input_shape"
   ]
  },
  {
   "cell_type": "code",
   "execution_count": 6,
   "metadata": {},
   "outputs": [
    {
     "name": "stdout",
     "output_type": "stream",
     "text": [
      "_________________________________________________________________\n",
      "Layer (type)                 Output Shape              Param #   \n",
      "=================================================================\n",
      "conv2d_1 (Conv2D)            (None, 254, 254, 32)      896       \n",
      "_________________________________________________________________\n",
      "conv2d_2 (Conv2D)            (None, 252, 252, 32)      9248      \n",
      "_________________________________________________________________\n",
      "max_pooling2d_1 (MaxPooling2 (None, 126, 126, 32)      0         \n",
      "_________________________________________________________________\n",
      "dropout_1 (Dropout)          (None, 126, 126, 32)      0         \n",
      "_________________________________________________________________\n",
      "conv2d_3 (Conv2D)            (None, 126, 126, 64)      18496     \n",
      "_________________________________________________________________\n",
      "conv2d_4 (Conv2D)            (None, 124, 124, 64)      36928     \n",
      "_________________________________________________________________\n",
      "max_pooling2d_2 (MaxPooling2 (None, 62, 62, 64)        0         \n",
      "_________________________________________________________________\n",
      "dropout_2 (Dropout)          (None, 62, 62, 64)        0         \n",
      "_________________________________________________________________\n",
      "flatten_1 (Flatten)          (None, 246016)            0         \n",
      "_________________________________________________________________\n",
      "dense_1 (Dense)              (None, 30)                7380510   \n",
      "=================================================================\n",
      "Total params: 7,446,078\n",
      "Trainable params: 7,446,078\n",
      "Non-trainable params: 0\n",
      "_________________________________________________________________\n"
     ]
    }
   ],
   "source": [
    "model.summary()"
   ]
  },
  {
   "cell_type": "code",
   "execution_count": 9,
   "metadata": {},
   "outputs": [],
   "source": [
    "resol = 256\n",
    "def preprocess(img):\n",
    "    return cv2.bilateralFilter(img, 9, 75, 75)"
   ]
  },
  {
   "cell_type": "code",
   "execution_count": 10,
   "metadata": {},
   "outputs": [],
   "source": [
    "test_datagen = ImageDataGenerator(rescale=1./255,)\n",
    "#                                  preprocessing_function=preprocess)\n",
    "# test_generator = test_datagen.flo"
   ]
  },
  {
   "cell_type": "code",
   "execution_count": 11,
   "metadata": {},
   "outputs": [
    {
     "name": "stdout",
     "output_type": "stream",
     "text": [
      "Found 2588 images belonging to 30 classes.\n"
     ]
    }
   ],
   "source": [
    "test_generator = test_datagen.flow_from_directory(\"test_data/\", target_size=(resol, resol),\n",
    "                                                 batch_size=4, shuffle=False)"
   ]
  },
  {
   "cell_type": "code",
   "execution_count": 12,
   "metadata": {},
   "outputs": [],
   "source": [
    "score = model.evaluate_generator(test_generator)"
   ]
  },
  {
   "cell_type": "code",
   "execution_count": 13,
   "metadata": {},
   "outputs": [
    {
     "data": {
      "text/plain": [
       "[0.9858297677379579, 0.9359093290023862]"
      ]
     },
     "execution_count": 13,
     "metadata": {},
     "output_type": "execute_result"
    }
   ],
   "source": [
    "score"
   ]
  },
  {
   "cell_type": "code",
   "execution_count": 14,
   "metadata": {},
   "outputs": [
    {
     "data": {
      "text/plain": [
       "{'antelope': 0,\n",
       " 'bat': 1,\n",
       " 'beaver': 2,\n",
       " 'bobcat': 3,\n",
       " 'buffalo': 4,\n",
       " 'chihuahua': 5,\n",
       " 'chimpanzee': 6,\n",
       " 'collie': 7,\n",
       " 'dalmatian': 8,\n",
       " 'german+shepherd': 9,\n",
       " 'grizzly+bear': 10,\n",
       " 'hippopotamus': 11,\n",
       " 'horse': 12,\n",
       " 'killer+whale': 13,\n",
       " 'mole': 14,\n",
       " 'moose': 15,\n",
       " 'mouse': 16,\n",
       " 'otter': 17,\n",
       " 'ox': 18,\n",
       " 'persian+cat': 19,\n",
       " 'raccoon': 20,\n",
       " 'rat': 21,\n",
       " 'rhinoceros': 22,\n",
       " 'seal': 23,\n",
       " 'siamese+cat': 24,\n",
       " 'spider+monkey': 25,\n",
       " 'squirrel': 26,\n",
       " 'walrus': 27,\n",
       " 'weasel': 28,\n",
       " 'wolf': 29}"
      ]
     },
     "execution_count": 14,
     "metadata": {},
     "output_type": "execute_result"
    }
   ],
   "source": [
    "test_generator.class_indices"
   ]
  },
  {
   "cell_type": "code",
   "execution_count": 11,
   "metadata": {},
   "outputs": [
    {
     "data": {
      "text/plain": [
       "{0: 'antelope',\n",
       " 1: 'bat',\n",
       " 2: 'beaver',\n",
       " 3: 'bobcat',\n",
       " 4: 'buffalo',\n",
       " 5: 'chihuahua',\n",
       " 6: 'chimpanzee',\n",
       " 7: 'collie',\n",
       " 8: 'dalmatian',\n",
       " 9: 'german+shepherd',\n",
       " 10: 'grizzly+bear',\n",
       " 11: 'hippopotamus',\n",
       " 12: 'horse',\n",
       " 13: 'killer+whale',\n",
       " 14: 'mole',\n",
       " 15: 'moose',\n",
       " 16: 'mouse',\n",
       " 17: 'otter',\n",
       " 18: 'ox',\n",
       " 19: 'persian+cat',\n",
       " 20: 'raccoon',\n",
       " 21: 'rat',\n",
       " 22: 'rhinoceros',\n",
       " 23: 'seal',\n",
       " 24: 'siamese+cat',\n",
       " 25: 'spider+monkey',\n",
       " 26: 'squirrel',\n",
       " 27: 'walrus',\n",
       " 28: 'weasel',\n",
       " 29: 'wolf'}"
      ]
     },
     "execution_count": 11,
     "metadata": {},
     "output_type": "execute_result"
    }
   ],
   "source": [
    "cname = {}  # mapping from index to class name\n",
    "for cls, ind in test_generator.class_indices.items():\n",
    "    cname[ind] = cls\n",
    "cname"
   ]
  },
  {
   "cell_type": "code",
   "execution_count": 24,
   "metadata": {},
   "outputs": [],
   "source": [
    "def get_class(impath):\n",
    "    img = load_img(impath, target_size=(resol, resol))\n",
    "\n",
    "    x = img_to_array(img)\n",
    "    plt.imshow(np.asarray(img))\n",
    "    x = x.reshape((1,) + x.shape) \n",
    "    prob = model.predict(x)\n",
    "    classes = []\n",
    "    for i, p in enumerate(prob[0]):\n",
    "        if p > 0.5:\n",
    "            classes.append(cname[i])\n",
    "    \n",
    "    return classes, prob"
   ]
  },
  {
   "cell_type": "code",
   "execution_count": null,
   "metadata": {},
   "outputs": [],
   "source": []
  }
 ],
 "metadata": {
  "kernelspec": {
   "display_name": "Python 3",
   "language": "python",
   "name": "python3"
  },
  "language_info": {
   "codemirror_mode": {
    "name": "ipython",
    "version": 3
   },
   "file_extension": ".py",
   "mimetype": "text/x-python",
   "name": "python",
   "nbconvert_exporter": "python",
   "pygments_lexer": "ipython3",
   "version": "3.6.4"
  }
 },
 "nbformat": 4,
 "nbformat_minor": 2
}
